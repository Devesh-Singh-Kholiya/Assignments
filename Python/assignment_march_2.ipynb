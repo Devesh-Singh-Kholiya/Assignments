{
 "cells": [
  {
   "cell_type": "markdown",
   "id": "87c0e9a0",
   "metadata": {},
   "source": [
    "1.\tCreate a python program to find duplicate files by content. User will input path and it will scan all directories, sub-directories to find all duplicates files.\n",
    "Delete the found duplicate file.\n"
   ]
  },
  {
   "cell_type": "code",
   "execution_count": 2,
   "id": "4e1bedce",
   "metadata": {},
   "outputs": [
    {
     "name": "stdout",
     "output_type": "stream",
     "text": [
      "[['constitution.txt'], ['s1.sql'], ['test.txt', 'test1.txt', 'test2.txt'], ['test4.txt']]\n"
     ]
    }
   ],
   "source": [
    "# Importing Libraries\n",
    "import os\n",
    "from pathlib import Path\n",
    "from filecmp import cmp\n",
    "\n",
    "\n",
    "# list of all documents\n",
    "DATA_DIR = Path(\"C:/Users/dkholiya/practice\")\n",
    "files = sorted(os.listdir(DATA_DIR))\n",
    "\n",
    "# List having the classes of documents\n",
    "# with the same content\n",
    "duplicateFiles = []\n",
    "\n",
    "# comparison of the documents\n",
    "for file_x in files:\n",
    "\n",
    "    if_dupl = False\n",
    "\n",
    "    for class_ in duplicateFiles:\n",
    "        # Comparing files having same content using cmp()\n",
    "        # class_[0] represents a class having same content\n",
    "        if_dupl = cmp(\n",
    "            DATA_DIR / file_x,\n",
    "            DATA_DIR / class_[0],\n",
    "            shallow=False\n",
    "        )\n",
    "        if if_dupl:\n",
    "            class_.append(file_x)\n",
    "            break\n",
    "\n",
    "    if not if_dupl:\n",
    "        duplicateFiles.append([file_x])\n",
    "\n",
    "# Print results\n",
    "print(duplicateFiles)\n"
   ]
  },
  {
   "cell_type": "code",
   "execution_count": 10,
   "id": "81617102",
   "metadata": {},
   "outputs": [
    {
     "name": "stdout",
     "output_type": "stream",
     "text": [
      "[['constitution.txt'], ['s1.sql'], ['test.txt'], ['test4.txt']]\n"
     ]
    }
   ],
   "source": [
    "for i in duplicateFiles:\n",
    "    if len(i)>1:\n",
    "        del i[1:]\n",
    "print(duplicateFiles)"
   ]
  },
  {
   "cell_type": "code",
   "execution_count": null,
   "id": "a27d5a1a",
   "metadata": {},
   "outputs": [],
   "source": []
  },
  {
   "cell_type": "markdown",
   "id": "1bec14fb",
   "metadata": {},
   "source": [
    "2.\tGenerate random Password with exact length = 6, with minimum 1 uppercase, 2 lowercase, 2 digits, and remaining special characters.\n",
    "Using these packages [random, strings]\n"
   ]
  },
  {
   "cell_type": "code",
   "execution_count": 12,
   "id": "b1d3eb0c",
   "metadata": {},
   "outputs": [
    {
     "name": "stdout",
     "output_type": "stream",
     "text": [
      "67Kl-u\n"
     ]
    }
   ],
   "source": [
    "import random\n",
    "import string\n",
    "\n",
    "upper=1\n",
    "lower=2\n",
    "digits=2\n",
    "special=1\n",
    "\n",
    "uc_pool=string.ascii_uppercase\n",
    "l_pool=string.ascii_lowercase\n",
    "d_pool=string.digits\n",
    "sp_pool=string.punctuation\n",
    "\n",
    "all_pool=uc_pool+l_pool+d_pool+sp_pool\n",
    "password=''.join(random.sample(all_pool,6))\n",
    "\n",
    "while(\n",
    "    sum(1 for c in password if c in uc_pool)<upper or\n",
    "    sum(1 for c in password if c in l_pool)<lower or\n",
    "    sum(1 for c in password if c in d_pool)<digits or\n",
    "    sum(1 for c in password if c in sp_pool)<special\n",
    "):\n",
    "    password=''.join(random.sample(all_pool,6))\n",
    "\n",
    "print(password)\n",
    "\n",
    "    \n"
   ]
  },
  {
   "cell_type": "markdown",
   "id": "48e3a5c4",
   "metadata": {},
   "source": [
    "3.\tCreate 2D array and update the same 2D array provided that every prime number position should be replaced by cube of the positioned number."
   ]
  },
  {
   "cell_type": "code",
   "execution_count": 17,
   "id": "8438d2e7",
   "metadata": {},
   "outputs": [
    {
     "name": "stdout",
     "output_type": "stream",
     "text": [
      "[[    0     0     8    27     0]\n",
      " [  125     0   343     0     0]\n",
      " [    0  1331     0  2197     0]\n",
      " [    0     0  4913     0  6859]\n",
      " [    0     0     0 12167     0]]\n"
     ]
    }
   ],
   "source": [
    "import numpy as np\n",
    "size=5\n",
    "arr1= np.zeros((size,size),dtype=np.int32)\n",
    "def is_prime(n):\n",
    "    if n<2:\n",
    "        return False\n",
    "    for i in range(2,int(n**0.5)+1):\n",
    "        if n%i==0:\n",
    "            return False\n",
    "    return True\n",
    "\n",
    "for i in range(size):\n",
    "    for j in range(size):\n",
    "        if is_prime(i*size+j):\n",
    "            arr1[i,j]=(i*size+j)**3\n",
    "print(arr1)"
   ]
  },
  {
   "cell_type": "markdown",
   "id": "87e04536",
   "metadata": {},
   "source": [
    "4.\tPython program to get the sum of every cubed value and its previous integer. "
   ]
  },
  {
   "cell_type": "code",
   "execution_count": 4,
   "id": "a5e4fdb0",
   "metadata": {},
   "outputs": [
    {
     "name": "stdout",
     "output_type": "stream",
     "text": [
      "[1, 8, 27, 0, 125]\n",
      "[0, 343, 0, 0, 0]\n",
      "[1331, 0, 2197, 0, 0]\n",
      "[0, 4913, 0, 6859, 0]\n",
      "[0, 0, 12167, 0, 0]\n",
      "Sum of prime cubes and their previous integers: 28062\n"
     ]
    }
   ],
   "source": [
    "import math\n",
    "\n",
    "# Create a 2D array with dimensions 5 x 5\n",
    "array_2d = [[0 for x in range(5)] for y in range(5)]\n",
    "\n",
    "# Iterate over the array and update prime number positions\n",
    "prime_cubes_sum = 0\n",
    "for i in range(5):\n",
    "    for j in range(5):\n",
    "        # Get the value at the current position\n",
    "        value = (i * 5) + j + 1\n",
    "        \n",
    "        # Check if the value is prime\n",
    "        is_prime = True\n",
    "        for k in range(2, int(math.sqrt(value)) + 1):\n",
    "            if value % k == 0:\n",
    "                is_prime = False\n",
    "                break\n",
    "        \n",
    "        # If the value is prime, update the position with its cube\n",
    "        if is_prime:\n",
    "            cube = value ** 3\n",
    "            prime_cubes_sum += cube + (value - 1)\n",
    "            array_2d[i][j] = cube\n",
    "\n",
    "# Print the updated array and the sum of prime cubes and their previous integers\n",
    "for row in array_2d:\n",
    "    print(row)\n",
    "print(\"Sum of prime cubes and their previous integers:\", prime_cubes_sum)"
   ]
  },
  {
   "cell_type": "markdown",
   "id": "829fad31",
   "metadata": {},
   "source": [
    "5.\tGiven two arrays, find their intersection. Examples:\n",
    "\n",
    "Input:  arr1[] = [1, 3, 4, 5, 7]\n",
    "             arr2[] = [2, 3, 5, 6]\n"
   ]
  },
  {
   "cell_type": "code",
   "execution_count": 26,
   "id": "f601d430",
   "metadata": {},
   "outputs": [
    {
     "name": "stdout",
     "output_type": "stream",
     "text": [
      "[3, 5]\n"
     ]
    }
   ],
   "source": [
    "arr1=[1,3,4,5,7]\n",
    "arr2=[2,3,5,6]\n",
    "result = list(filter(lambda x: x in arr1, arr2))\n",
    "print(result)"
   ]
  },
  {
   "cell_type": "markdown",
   "id": "9fd686a1",
   "metadata": {},
   "source": [
    "6.\tCreate a 7 x 7  2D array having only multiples of 7. And return the last element of the same."
   ]
  },
  {
   "cell_type": "code",
   "execution_count": 8,
   "id": "51c0fe96",
   "metadata": {},
   "outputs": [
    {
     "name": "stdout",
     "output_type": "stream",
     "text": [
      "[[7, 14, 21, 28, 35, 42, 49], [14, 28, 42, 56, 70, 84, 98], [21, 42, 63, 84, 105, 126, 147], [28, 56, 84, 112, 140, 168, 196], [35, 70, 105, 140, 175, 210, 245], [42, 84, 126, 168, 210, 252, 294], [49, 98, 147, 196, 245, 294, 343]]\n",
      "last element is : 343\n"
     ]
    }
   ],
   "source": [
    "import pandas as pd\n",
    "ar= [ [0]*7 for i in range(7)]\n",
    "for i in range(7):\n",
    "    for j in range(7):\n",
    "        ar[i][j]=7*(i+1)*(j+1)\n",
    "\n",
    "print(ar) \n",
    "\n",
    "l=ar[-1][-1]\n",
    "print(\"last element is :\" ,l)\n"
   ]
  },
  {
   "cell_type": "markdown",
   "id": "41fe35dc",
   "metadata": {},
   "source": [
    "7.\tChecker Board Patten using Numpy:\n",
    "[   1   0   1   0   1   0   1\n",
    "    0   1   0   1   0   1   0\n",
    "    1   0   1   0   1   0   1\n",
    "    0   1   0   1   0   1   0\n",
    "    1   0   1   0   1   0   1  ]\n"
   ]
  },
  {
   "cell_type": "code",
   "execution_count": 78,
   "id": "52aaea23",
   "metadata": {
    "scrolled": true
   },
   "outputs": [
    {
     "name": "stdout",
     "output_type": "stream",
     "text": [
      "[[1. 1. 1. 1. 1.]\n",
      " [1. 0. 0. 0. 1.]\n",
      " [1. 0. 0. 0. 1.]\n",
      " [1. 0. 0. 0. 1.]\n",
      " [1. 0. 0. 0. 1.]\n",
      " [1. 0. 0. 0. 1.]\n",
      " [1. 1. 1. 1. 1.]]\n"
     ]
    }
   ],
   "source": [
    "import numpy as np\n",
    "x = np.ones((7, 5))\n",
    "x[1:-1, 1:-1] = 0\n",
    "print(x)"
   ]
  },
  {
   "cell_type": "markdown",
   "id": "d1ca9749",
   "metadata": {},
   "source": [
    "8.\tCreate a given Matrix:\n",
    "[  A,     B,     C,       D\n",
    "   E,      F,     G,       H\n",
    "    I,      a,      K,       L\n",
    "   M,    N,     o,       P\n",
    "   Q,     R,      S,       T\n",
    "   U,     0,     W,      O ]\n",
    "\n",
    "Replace all the vowels by np.nan\n",
    "A, E, I, O U  -- >  np.nan\n",
    "Return the count of the missing values\n"
   ]
  },
  {
   "cell_type": "code",
   "execution_count": 11,
   "id": "672fb600",
   "metadata": {
    "collapsed": true
   },
   "outputs": [
    {
     "data": {
      "text/plain": [
       "[nan,\n",
       " 'B',\n",
       " 'C',\n",
       " 'D',\n",
       " nan,\n",
       " 'F',\n",
       " 'G',\n",
       " 'H',\n",
       " nan,\n",
       " 'J',\n",
       " 'K',\n",
       " 'L',\n",
       " 'M',\n",
       " 'N',\n",
       " nan,\n",
       " 'P',\n",
       " 'Q',\n",
       " 'R',\n",
       " 'S',\n",
       " 'T',\n",
       " nan,\n",
       " 'V',\n",
       " 'W',\n",
       " 'X']"
      ]
     },
     "execution_count": 11,
     "metadata": {},
     "output_type": "execute_result"
    }
   ],
   "source": [
    "import numpy as np\n",
    "arr_6=list(\"ABCDEFGHIJKLMNOPQRSTUVWX\")\n",
    "arr_7=list(\"AEIOU\")\n",
    "# arr_6.reshape(4,6)\n",
    "# arr_7\n",
    "j=0\n",
    "for i in range(0,len(arr_6)):\n",
    "    if j<len(arr_7) and arr_6[i]==arr_7[j]:\n",
    "        j+=1\n",
    "        arr_6[i]=np.nan \n",
    "\n",
    "arr_6"
   ]
  },
  {
   "cell_type": "code",
   "execution_count": 12,
   "id": "12907378",
   "metadata": {},
   "outputs": [
    {
     "data": {
      "text/plain": [
       "5"
      ]
     },
     "execution_count": 12,
     "metadata": {},
     "output_type": "execute_result"
    }
   ],
   "source": [
    "arr_6=np.array(arr_6)\n",
    "arr_6=list(arr_6)\n",
    "# arr_6=arr_6.reshape(4,6)\n",
    "arr_6\n",
    "\n",
    "count=0\n",
    "for i in arr_6:\n",
    "    if i=='nan':\n",
    "        count += 1\n",
    "count\n",
    "\n"
   ]
  },
  {
   "cell_type": "code",
   "execution_count": null,
   "id": "4ebd390e",
   "metadata": {},
   "outputs": [],
   "source": []
  }
 ],
 "metadata": {
  "kernelspec": {
   "display_name": "Python 3 (ipykernel)",
   "language": "python",
   "name": "python3"
  },
  "language_info": {
   "codemirror_mode": {
    "name": "ipython",
    "version": 3
   },
   "file_extension": ".py",
   "mimetype": "text/x-python",
   "name": "python",
   "nbconvert_exporter": "python",
   "pygments_lexer": "ipython3",
   "version": "3.9.13"
  }
 },
 "nbformat": 4,
 "nbformat_minor": 5
}
